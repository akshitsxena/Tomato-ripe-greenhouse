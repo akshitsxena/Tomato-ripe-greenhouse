{
 "cells": [
  {
   "cell_type": "code",
   "execution_count": null,
   "id": "d0412172-a822-48bf-8895-f378ac8910ed",
   "metadata": {},
   "outputs": [],
   "source": [
    "from ultralytics import YOLO\n",
    "import os"
   ]
  },
  {
   "cell_type": "code",
   "execution_count": null,
   "id": "263a8358-0962-4325-ade9-5ca4d11eeeb9",
   "metadata": {},
   "outputs": [],
   "source": [
    "import torch\n",
    "print(\"CUDA Available:\", torch.cuda.is_available())\n",
    "print(\"GPU:\", torch.cuda.get_device_name(0))"
   ]
  },
  {
   "cell_type": "code",
   "execution_count": null,
   "id": "45a75a10-e2a3-4171-84f8-734a3627e88f",
   "metadata": {},
   "outputs": [],
   "source": [
    "model = YOLO(\"yolov8n.yaml\")  # lightweight model for Pi\n",
    "model.train(\n",
    "    data=\"D:/env1/tomatoR1/example_dataset.yaml\",\n",
    "    epochs=25,\n",
    "    imgsz=640,\n",
    "    batch=16,\n",
    "    device=0,  # GPU\n",
    "    project=\"runs/train\",\n",
    "   name=\"tomato_combined\"\n",
    ")"
   ]
  },
  {
   "cell_type": "code",
   "execution_count": null,
   "id": "fb4ef845-2393-441e-8314-62c17a530b51",
   "metadata": {},
   "outputs": [],
   "source": [
    "metrics = model.val()\n",
    "print(metrics)\n"
   ]
  },
  {
   "cell_type": "code",
   "execution_count": null,
   "id": "8c66da39-7cc4-46cd-9794-3971f4d9479c",
   "metadata": {},
   "outputs": [],
   "source": [
    "model = YOLO(\"best.pt\")\n",
    "results = model.predict(source='C:/Users/vnama/Downloads/dronetest1.jpg',conf=0.2)\n",
    "for result in results:\n",
    "    result.show()"
   ]
  },
  {
   "cell_type": "code",
   "execution_count": null,
   "id": "c8f79f18-1553-49f2-ac6d-b18d5f662076",
   "metadata": {},
   "outputs": [],
   "source": []
  }
 ],
 "metadata": {
  "kernelspec": {
   "display_name": "Python 3 (ipykernel)",
   "language": "python",
   "name": "python3"
  },
  "language_info": {
   "codemirror_mode": {
    "name": "ipython",
    "version": 3
   },
   "file_extension": ".py",
   "mimetype": "text/x-python",
   "name": "python",
   "nbconvert_exporter": "python",
   "pygments_lexer": "ipython3",
   "version": "3.10.9"
  }
 },
 "nbformat": 4,
 "nbformat_minor": 5
}
